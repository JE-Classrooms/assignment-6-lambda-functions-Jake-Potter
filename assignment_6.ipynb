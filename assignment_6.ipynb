{
 "cells": [
  {
   "cell_type": "markdown",
   "metadata": {},
   "source": [
    "# Assignment 6"
   ]
  },
  {
   "cell_type": "markdown",
   "metadata": {},
   "source": [
    "**Exercise 1:**  write a Python program to find palindromes in a given list of strings using Lambda.\n",
    "\n",
    "Apply the Python program for the following two lists:\n",
    "\n",
    "**Input 1:** ```['civic', 'Lambda', 'Python', 'QTM', 'Java', 'ana']```\n",
    "\n",
    "**Output 1:** ```['civic', 'ana']```\n",
    "\n",
    "**Input 2:** ```['nurses run', 'Nurses Run', 'madam', 'Stats', 'World', 'what']```\n",
    "\n",
    "**Output 2:** ```['nurses run', 'Nurses Run', 'madam', 'Stats']```"
   ]
  },
  {
   "cell_type": "code",
   "execution_count": 8,
   "metadata": {},
   "outputs": [
    {
     "name": "stdout",
     "output_type": "stream",
     "text": [
      "['civic', 'ana']\n",
      "['nurses run', 'Nurses Run', 'madam', 'Stats']\n"
     ]
    }
   ],
   "source": [
    "input1 = ['civic', 'Lambda', 'Python', 'QTM', 'Java', 'ana']\n",
    "input2= ['nurses run', 'Nurses Run', 'madam', 'Stats', 'World', 'what']\n",
    "\n",
    "def clean_string(string):\n",
    "    string = string.lower().replace(' ','')\n",
    "    return string\n",
    "\n",
    "output1 = list(filter(lambda i:clean_string(i) == clean_string(i[::-1]),input1))\n",
    "output2 = list(filter(lambda i:(clean_string(i) == clean_string(i[::-1])),input2))\n",
    "\n",
    "print(output1)\n",
    "print(output2)\n",
    "\n",
    "\n",
    "#def pal(input1):\n",
    "    #output = []\n",
    "    #for i in input1:\n",
    "        #x = i[::-1]\n",
    "        #if x == i:\n",
    "            #output.append(i)\n",
    "    #return output\n",
    "\n",
    "\n"
   ]
  },
  {
   "cell_type": "markdown",
   "metadata": {},
   "source": [
    "**Exercise 2:** write a Python program to calculate the sum of the positive and negative numbers of a given list of numbers using lambda function.\n",
    "\n",
    "**Output:**\n",
    "\n",
    "Original list: [2, 4, -6, -9, 11, -12, 14, -5, 17]\n",
    "\n",
    "Sum of the positive numbers:  -32\n",
    "\n",
    "Sum of the negative numbers:  48"
   ]
  },
  {
   "cell_type": "code",
   "execution_count": 10,
   "metadata": {},
   "outputs": [
    {
     "name": "stdout",
     "output_type": "stream",
     "text": [
      "48 -32\n"
     ]
    }
   ],
   "source": [
    "list1 = [2, 4, -6, -9, 11, -12, 14, -5, 17]\n",
    "\n",
    "positive = filter(lambda x: (x>0),list1)\n",
    "negative = filter(lambda x: (x<0),list1)\n",
    "\n",
    "#result = ['Sum of the positive numbers: ' + str(sum(list(filter(lambda x: (x >0),list1)))), 'Sum of the negative numbers: ' + str(sum(list(filter(lambda x: (x <0),list1))))]\n",
    "#result = list(filter(lambda x,y: (x <0),list1))\n",
    "\n",
    "print(sum(positive),sum(negative))\n",
    "\n"
   ]
  },
  {
   "cell_type": "markdown",
   "metadata": {},
   "source": [
    "**Exercise 3:** write a Python program to find the maximum, minimum and average values in a given heterogeneous list using lambda.\n",
    "\n",
    "**Output:**\n",
    "\n",
    "Original list: ['I', 'love' 3, 2, 4, 5, 'Python', 12]\n",
    "\n",
    "Maximum value: 12\n",
    "\n",
    "Minimum value: 2\n",
    "\n",
    "Average value: 5.2"
   ]
  },
  {
   "cell_type": "code",
   "execution_count": 52,
   "metadata": {},
   "outputs": [
    {
     "name": "stdout",
     "output_type": "stream",
     "text": [
      "['max 12', 'min 2', 'mean 5.2']\n"
     ]
    }
   ],
   "source": [
    "ol = ['I', 'love', 3, 2, 4, 5, 'Python', 12]\n",
    "m = (list(filter(lambda x: (type(x) == int),ol)))\n",
    "r = ['max '+str(max(m)),'min ' +str(min(m)), 'mean ' + str(sum(m)/len(m))]\n",
    "print(r)\n"
   ]
  },
  {
   "cell_type": "code",
   "execution_count": null,
   "metadata": {},
   "outputs": [],
   "source": []
  }
 ],
 "metadata": {
  "kernelspec": {
   "display_name": "conda_amazonei_mxnet_p36",
   "language": "python",
   "name": "conda_amazonei_mxnet_p36"
  },
  "language_info": {
   "codemirror_mode": {
    "name": "ipython",
    "version": 3
   },
   "file_extension": ".py",
   "mimetype": "text/x-python",
   "name": "python",
   "nbconvert_exporter": "python",
   "pygments_lexer": "ipython3",
   "version": "3.6.13"
  },
  "vscode": {
   "interpreter": {
    "hash": "9fbb33e86ca55080a202fed700efde3fb4ffe3f46131e5b52201b9ba06ce5f72"
   }
  }
 },
 "nbformat": 4,
 "nbformat_minor": 4
}
